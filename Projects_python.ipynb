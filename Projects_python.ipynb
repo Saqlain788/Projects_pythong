{
  "nbformat": 4,
  "nbformat_minor": 0,
  "metadata": {
    "colab": {
      "provenance": []
    },
    "kernelspec": {
      "name": "python3",
      "display_name": "Python 3"
    },
    "language_info": {
      "name": "python"
    }
  },
  "cells": [
    {
      "cell_type": "markdown",
      "source": [
        "## 1. JOKE BOT\n",
        "Write a simple joke bot. The bot starts by asking the user what they want. However, your program will only respond to one response: Joke.\n",
        "\n",
        "If the user enters Joke then we will print out a single joke. Each time the joke is always the same:\n",
        "\n",
        "Here is a joke for you! Panaversity GPT - Sophia is heading out to the grocery store. A programmer tells her: get a liter of milk, and if they have eggs, get 12. Sophia returns with 13 liters of milk. The programmer asks why and Sophia replies: 'because they had eggs'\n",
        "\n",
        "If the user enters anything else we print out:\n",
        "\n",
        "Sorry I only tell jokes\n",
        "\n",
        "You should use the three constants:\n",
        "\n",
        "PROMPT JOKE SORRY\n",
        "\n",
        "which contain the strings for the prompt asked to the user, the joke to print out if the user enters Joke and the sorry message if the user enters anything else."
      ],
      "metadata": {
        "id": "3jf_D5oXOUGW"
      }
    },
    {
      "cell_type": "code",
      "source": [
        "# Through Procedural Programming\n",
        "# Contants\n",
        "PROMPT : str = \"What would you like to do?\"\n",
        "JOKE: str = \"Here is a joke for you! Panaversity GPT - Sophia is heading out to the grocery store\"\n",
        "\n",
        "# Define a Function\n",
        "def joke_bot() -> str:\n",
        "  # 1. Get User Input\n",
        "  user_input = input(\"What is your message?\")\n",
        "  print(user_input)\n",
        "  # if else statement\n",
        "  if user_input.lower() == \"joke\":\n",
        "      print(JOKE)\n",
        "  else:\n",
        "      print(\"Sorry, I only tell jokes\")\n",
        "\n",
        "joke_bot()"
      ],
      "metadata": {
        "colab": {
          "base_uri": "https://localhost:8080/"
        },
        "id": "L7wy5uL7Oasb",
        "outputId": "6f1fbf7b-d59f-4b16-a03a-5287aed2bc70"
      },
      "execution_count": null,
      "outputs": [
        {
          "output_type": "stream",
          "name": "stdout",
          "text": [
            "What is your message?joke\n",
            "joke\n",
            "Here is a joke for you! Panaversity GPT - Sophia is heading out to the grocery store\n"
          ]
        }
      ]
    },
    {
      "cell_type": "code",
      "source": [
        "# Through Functional Programming.\n",
        "# Constants\n",
        "PROMPT: str = \"What would you like to do?\"\n",
        "JOKE: str = \"Here is a joke for you! Panaversity GPT - Sophia is heading out to the grocery store\"\n",
        "NO_JOKE: str = \"Sorry, I only tell jokes\"\n",
        "\n",
        "# Define a Pure Function\n",
        "def get_response(user_input: str) -> str:\n",
        "    return JOKE if user_input.lower().strip() == \"joke\" else NO_JOKE\n",
        "\n",
        "# Example usage\n",
        "user_input = input(PROMPT)\n",
        "response = get_response(user_input)\n",
        "print(response)\n"
      ],
      "metadata": {
        "colab": {
          "base_uri": "https://localhost:8080/"
        },
        "id": "9W7lnhiYPkNZ",
        "outputId": "814fbf9d-8eca-485d-84ca-b2d9879daffe"
      },
      "execution_count": null,
      "outputs": [
        {
          "output_type": "stream",
          "name": "stdout",
          "text": [
            "What would you like to do?joke\n",
            "Here is a joke for you! Panaversity GPT - Sophia is heading out to the grocery store\n"
          ]
        }
      ]
    },
    {
      "cell_type": "code",
      "source": [
        "# Through OOP\n",
        "# Constants\n",
        "PROMPT: str = \"What would you like to do?\"\n",
        "JOKE: str = \"Here is a joke for you! Panaversity GPT - Sophia is heading out to the grocery store\"\n",
        "NO_JOKE: str = \"Sorry, I only tell jokes\"\n",
        "\n",
        "# Define a Class for JokeBot\n",
        "class JokeBot:\n",
        "    def __init__(self, prompt: str, joke: str, no_joke: str) -> None:\n",
        "        self.prompt = prompt\n",
        "        self.joke = joke\n",
        "        self.no_joke = no_joke\n",
        "\n",
        "    def run(self) -> None:\n",
        "        user_input = input(self.prompt).strip().lower()\n",
        "        print(self.joke if user_input == \"joke\" else self.no_joke)\n",
        "\n",
        "# Instantiate and run the joke bot\n",
        "joke_bot = JokeBot(PROMPT, JOKE, NO_JOKE)\n",
        "joke_bot.run()\n"
      ],
      "metadata": {
        "id": "_mN9qu3KThM5"
      },
      "execution_count": null,
      "outputs": []
    },
    {
      "cell_type": "markdown",
      "source": [
        "## 2. Double it\n",
        "Write a program that asks a user to enter a number. Your program will then double that number and print out the result. It will repeat that process until the value is 100 or greater.\n",
        "\n",
        "For example if the user enters the number 2 you would then print:\n",
        "\n",
        "4 8 16 32 64 128\n",
        "\n",
        "Note that:\n",
        "\n",
        "2 doubled is 4\n",
        "\n",
        "4 doubled is 8\n",
        "\n",
        "8 doubled is 16\n",
        "\n",
        "and so on.\n",
        "\n",
        "We stop at 128 because that value is greater than 100.\n"
      ],
      "metadata": {
        "id": "DnhkEE-sUiaH"
      }
    },
    {
      "cell_type": "code",
      "source": [
        "def double_number():\n",
        "  # Get User Input & Type casting\n",
        "  user_input : int = int(input(\"Enter a Number: \"))\n",
        "\n",
        "  # Loop: While & For\n",
        "  while user_input <= 100:\n",
        "    user_input *= 2\n",
        "    # user_input = 2 * user_input\n",
        "    print(user_input, end=\" \")\n",
        "\n",
        "double_number()"
      ],
      "metadata": {
        "colab": {
          "base_uri": "https://localhost:8080/"
        },
        "id": "i3Cd_vZTUaaS",
        "outputId": "8ee0646a-60a7-4e29-8a9e-014dc86077e6"
      },
      "execution_count": null,
      "outputs": [
        {
          "output_type": "stream",
          "name": "stdout",
          "text": [
            "Enter a Number: 4\n",
            "8 16 32 64 128 "
          ]
        }
      ]
    },
    {
      "cell_type": "markdown",
      "source": [
        "## 3. Liftoff Counter\n",
        "Write a program that prints out the calls for a spaceship that is about to launch. Countdown from 10 to 1 and then output Liftoff!\n",
        "\n",
        "Here's a sample run of the program:\n",
        "\n",
        "10 9 8 7 6 5 4 3 2 1 Liftoff!"
      ],
      "metadata": {
        "id": "dUVoxTAIXeMP"
      }
    },
    {
      "cell_type": "code",
      "source": [
        "def liftoff():\n",
        "  # Loop: For\n",
        "  for i in range(10, 0, -1):\n",
        "    print(i, end=\" \")\n",
        "  print(\"Liftoff!\")\n",
        "\n",
        "liftoff()"
      ],
      "metadata": {
        "colab": {
          "base_uri": "https://localhost:8080/"
        },
        "id": "vrwi6PN6TjuT",
        "outputId": "2b0e0d7d-c74e-406b-c1ff-0d738ac3c5b3"
      },
      "execution_count": null,
      "outputs": [
        {
          "output_type": "stream",
          "name": "stdout",
          "text": [
            "10 9 8 7 6 5 4 3 2 1 Liftoff!\n"
          ]
        }
      ]
    },
    {
      "cell_type": "code",
      "source": [
        "# List and For Loop\n",
        "number_list : list[int] = [10, 9, 8, 7, 6, 5, 4, 3, 2, 1]\n",
        "def countdown():\n",
        "  for i in number_list:\n",
        "    print(i, end=\" \")\n",
        "  print(\"Liftoff!\")\n",
        "countdown()"
      ],
      "metadata": {
        "colab": {
          "base_uri": "https://localhost:8080/"
        },
        "id": "wSdcthdBZ9eX",
        "outputId": "f6ddb3f5-d9bb-4134-8e4d-b1a0ac87ece5"
      },
      "execution_count": null,
      "outputs": [
        {
          "output_type": "stream",
          "name": "stdout",
          "text": [
            "10 9 8 7 6 5 4 3 2 1 Liftoff!\n"
          ]
        }
      ]
    },
    {
      "cell_type": "markdown",
      "source": [
        "## 4. Number Guess Game\n",
        "Guess My Number\n",
        "\n",
        "I am thinking of a number between 0 and 99... Enter a guess: 50 Your guess is too high\n",
        "\n",
        "Enter a new number: 25 Your guess is too low\n",
        "\n",
        "Enter a new number: 40 Your guess is too low\n",
        "\n",
        "Enter a new number: 45 Your guess is too low\n",
        "\n",
        "Enter a new number: 48 Congrats! The number was: 48\n"
      ],
      "metadata": {
        "id": "SsOgPhwzcGhA"
      }
    },
    {
      "cell_type": "code",
      "source": [
        "import random\n",
        "\n",
        "def game():\n",
        "    print(\"Welcome to the Random Number Guessing Game!\")\n",
        "    limit = int(input(\"Enter the upper limit for the random number: \"))\n",
        "    secret_number = random.randint(1, limit)\n",
        "    tries = 0\n",
        "\n",
        "    while True:\n",
        "        user_guess = int(input(\"Enter your guess: \"))\n",
        "        tries += 1\n",
        "\n",
        "        if user_guess < secret_number:\n",
        "            print(\"Your guess is too low.\")\n",
        "        elif user_guess > secret_number:\n",
        "            print(\"Your guess is too high.\")\n",
        "        else:\n",
        "            print(f\"Congratulations! You've guessed the number {secret_number} in {tries} tries.\")\n",
        "            break\n",
        "\n",
        "game()"
      ],
      "metadata": {
        "colab": {
          "base_uri": "https://localhost:8080/"
        },
        "id": "S7E2rt9Id_6I",
        "outputId": "80adbd8c-dfa4-4adf-977e-057848d899a1"
      },
      "execution_count": null,
      "outputs": [
        {
          "output_type": "stream",
          "name": "stdout",
          "text": [
            "Welcome to the Random Number Guessing Game!\n",
            "Enter the upper limit for the random number: 100\n",
            "Enter your guess: 50\n",
            "Your guess is too low.\n",
            "Enter your guess: 78\n",
            "Your guess is too high.\n",
            "Enter your guess: 60\n",
            "Your guess is too low.\n",
            "Enter your guess: 65\n",
            "Your guess is too high.\n",
            "Enter your guess: 62\n",
            "Congratulations! You've guessed the number 62 in 5 tries.\n"
          ]
        }
      ]
    },
    {
      "cell_type": "code",
      "source": [
        "# 1. let Computer Generate and save a number using randow\n",
        "import random\n",
        "computer_geneated_number : int = random.randint(1, 100)\n",
        "# print(computer_geneated_number)\n",
        "\n",
        "allowed_attempts : int = 3\n",
        "user_attempt : int = 0\n",
        "# 2. While condition with break statement\n",
        "while True:\n",
        "  print(f\"You have {allowed_attempts - user_attempt} attempts left.\")\n",
        "\n",
        "  if user_attempt == allowed_attempts:\n",
        "    print(\"Game over...\")\n",
        "    break\n",
        "  # 3. Get User number\n",
        "  user_input : int = int(input(\"Enter a Number: \"))\n",
        "  user_attempt += 1\n",
        "  # 4. If statement:\n",
        "  if user_input < computer_geneated_number:\n",
        "    print(\"Your guess is too low.\")\n",
        "  elif user_input > computer_geneated_number:\n",
        "    print(\"Your guess is too high.\")\n",
        "  else:\n",
        "    print(\"Congratulations! You've guessed the number.\")\n",
        "    break"
      ],
      "metadata": {
        "colab": {
          "base_uri": "https://localhost:8080/"
        },
        "id": "N0LYv3B-dmCH",
        "outputId": "6f6ea3c6-9448-49ce-82ae-9edb88688750"
      },
      "execution_count": null,
      "outputs": [
        {
          "output_type": "stream",
          "name": "stdout",
          "text": [
            "You have 3 attempts left.\n",
            "Enter a Number: 23\n",
            "Your guess is too low.\n",
            "You have 2 attempts left.\n",
            "Enter a Number: 65\n",
            "Your guess is too low.\n",
            "You have 1 attempts left.\n",
            "Enter a Number: 78\n",
            "Your guess is too low.\n",
            "You have 0 attempts left.\n",
            "Game over...\n"
          ]
        }
      ]
    },
    {
      "cell_type": "code",
      "source": [
        "# Number Guess Game\n",
        "# 1. Import the random module to generate a random number\n",
        "import random\n",
        "\n",
        "while True:  # Outer loop for the \"Play Again\" feature\n",
        "    # Print a welcome message for the game start\n",
        "    print(\"\\n🎮 Welcome to the Number Guess Game! 🎮\")\n",
        "    print(\"I have picked a number between 1 and 100.\")\n",
        "    print(\"You have 3 attempts to guess the correct number. Let's begin!\")\n",
        "\n",
        "    # 2. Let the computer generate a random number between 1 and 100\n",
        "    computer_generated_number: int = random.randint(1, 100)\n",
        "\n",
        "    # 3. Set the allowed number of attempts\n",
        "    allowed_attempts: int = 3\n",
        "\n",
        "    # 4. Initialize the user's attempt count\n",
        "    user_attempt: int = 0\n",
        "\n",
        "    # 5. Start the game loop (runs until the user wins or uses all attempts)\n",
        "    while user_attempt < allowed_attempts:\n",
        "        # Show how many attempts are left\n",
        "        print(f\"\\nYou have {allowed_attempts - user_attempt} attempts left.\")\n",
        "\n",
        "        # 6. Get a number from the user\n",
        "        try:\n",
        "            user_input: int = int(input(\"Enter a number between 1 and 100: \"))\n",
        "        except ValueError:\n",
        "            print(\"Invalid input! Please enter a valid number.\")\n",
        "            continue  # Ask for input again if invalid\n",
        "\n",
        "        # Increase the attempt count\n",
        "        user_attempt += 1\n",
        "\n",
        "        # 7. Compare the user's guess with the computer's number\n",
        "        if user_input < computer_generated_number:\n",
        "            print(\"Your guess is too low.\")\n",
        "        elif user_input > computer_generated_number:\n",
        "            print(\"Your guess is too high.\")\n",
        "        else:\n",
        "            print(\"🎉 Congratulations! You've guessed the number correctly! 🎉\")\n",
        "            break  # End the game if the user guesses the number\n",
        "\n",
        "    # If attempts are exhausted and user hasn't guessed correctly\n",
        "    if user_attempt == allowed_attempts and user_input != computer_generated_number:\n",
        "        print(f\"Game over... The correct number was: {computer_generated_number}\")\n",
        "\n",
        "    # 8. Play Again mode (after the game ends)\n",
        "    play_again = input(\"\\nDo you want to play again? (yes/no): \").lower()\n",
        "    if play_again != \"yes\":\n",
        "        print(\"Thanks for playing! Goodbye!\")\n",
        "        break\n"
      ],
      "metadata": {
        "colab": {
          "base_uri": "https://localhost:8080/"
        },
        "id": "bDZfoYKzpokc",
        "outputId": "f33bbef3-73ac-41d2-b93c-3f292b340e6c"
      },
      "execution_count": null,
      "outputs": [
        {
          "output_type": "stream",
          "name": "stdout",
          "text": [
            "\n",
            "🎮 Welcome to the Number Guess Game! 🎮\n",
            "I have picked a number between 1 and 100.\n",
            "You have 3 attempts to guess the correct number. Let's begin!\n",
            "\n",
            "You have 3 attempts left.\n",
            "Enter a number between 1 and 100: 54\n",
            "Your guess is too low.\n",
            "\n",
            "You have 2 attempts left.\n",
            "Enter a number between 1 and 100: 23\n",
            "Your guess is too low.\n",
            "\n",
            "You have 1 attempts left.\n",
            "Enter a number between 1 and 100: 78\n",
            "Your guess is too low.\n",
            "Game over... The correct number was: 88\n",
            "\n",
            "Do you want to play again? (yes/no): 4\n",
            "Thanks for playing! Goodbye!\n"
          ]
        }
      ]
    },
    {
      "cell_type": "markdown",
      "source": [
        "## MAKE LIST\n",
        "Print 10 random numbers in the range 1 to 100.\n",
        "\n",
        "Here is an example run:\n",
        "\n",
        "45 79 61 47 52 10 16 83 19 12\n",
        "\n",
        "Each time you run your program you should get different numbers\n",
        "\n",
        "81 76 70 1 27 63 96 100 32 92\n",
        "\n",
        "Recall that the python random library has a function randint which returns an integer in the range set by the parameters (inclusive). For example this call would produce a random integer between 1 and 6, which could include 1 and could include 6:\n",
        "\n",
        "value = random.randint(1, 6)"
      ],
      "metadata": {
        "id": "5USXlqG4COya"
      }
    },
    {
      "cell_type": "code",
      "source": [
        "import random\n",
        "\n",
        "MIN_NUMBER : int = 1\n",
        "MAX_NUMBER : int = 100\n",
        "N_RANDOM_NUMBERS : int = 10\n",
        "\n",
        "# Function\n",
        "# 1. Use for loop\n",
        "number_list : list[int] = []\n",
        "for i in range(N_RANDOM_NUMBERS):\n",
        "  rand_number = random.randint(MIN_NUMBER, MAX_NUMBER)\n",
        "  number_list.append(rand_number)\n",
        "  # print(rand_number, end=\" \")\n"
      ],
      "metadata": {
        "colab": {
          "base_uri": "https://localhost:8080/"
        },
        "id": "MUmUemJjCVho",
        "outputId": "9263eff0-dfe5-4737-f6e0-bfad6b81607f"
      },
      "execution_count": 4,
      "outputs": [
        {
          "output_type": "stream",
          "name": "stdout",
          "text": [
            "83 76 16 45 3 62 43 87 19 58 "
          ]
        }
      ]
    },
    {
      "cell_type": "code",
      "source": [
        "print(*number_list)"
      ],
      "metadata": {
        "colab": {
          "base_uri": "https://localhost:8080/"
        },
        "id": "Ckq811GSDkoO",
        "outputId": "e257e820-1ac7-475f-98ac-9d8cbd35d26d"
      },
      "execution_count": 6,
      "outputs": [
        {
          "output_type": "stream",
          "name": "stdout",
          "text": [
            "83 76 16 45 3 62 43 87 19 58\n"
          ]
        }
      ]
    },
    {
      "cell_type": "code",
      "source": [
        "MIN_NUMBER : int = 1\n",
        "MAX_NUMBER : int = 101\n",
        "N_RANDOM_NUMBERS : int = 10\n",
        "\n",
        "import numpy as np\n",
        "number_list : np.ndarray = np.random.randint(MIN_NUMBER, MAX_NUMBER, N_RANDOM_NUMBERS)\n",
        "print(*number_list)"
      ],
      "metadata": {
        "colab": {
          "base_uri": "https://localhost:8080/"
        },
        "id": "jOQpnSXDDvkp",
        "outputId": "031e72f9-ea7a-4a5d-dd1f-283694d05c28"
      },
      "execution_count": 8,
      "outputs": [
        {
          "output_type": "stream",
          "name": "stdout",
          "text": [
            "55 37 99 96 19 80 49 13 76 80\n"
          ]
        }
      ]
    },
    {
      "cell_type": "markdown",
      "source": [
        "## 5. Planetary Weight Calculator\n",
        "Milestone #1: Mars Weight\n",
        "A few years ago, NASA made history with the first controlled flight on another planet. Its latest Mars Rover, Perseverance, has onboard a 50cm high helicopter called Ingenuity. Ingenuity made its third flight, during which it flew faster and further than it had on any of its test flights on Earth. Interestingly, Ingenuity uses Python for some of its flight modeling software!\n",
        "\n",
        "Ingenuity on the surface of Mars (source: NASA)\n",
        "\n",
        "When programming Ingenuity, one of the things that NASA engineers need to account for is the fact that due to the weaker gravity on Mars, an Earthling's weight on Mars is 37.8% of their weight on Earth. Write a Python program that prompts an Earthling to enter their weight on Earth and prints their calculated weight on Mars.\n",
        "\n",
        "The output should be rounded to two decimal places when necessary. Python has a round function which can help you with this. You pass in the value to be rounded and the number of decimal places to use. In the example below, the number 3.1415926 is rounded to 2 decimal places which is 3.14.\n",
        "\n",
        "x = 3.1415926\n",
        "rounded_x = round(x, 2) # rounds x to 2 decimal places\n",
        "print(rounded_x)\n",
        "\n",
        "# This would print out out 3.14\n",
        "\n",
        "x = 2.71828\n",
        "rounded_x = round(x, 4)\n",
        "print(rounded_x)\n",
        "\n",
        "# This would print out 2.7183\n",
        "\n",
        "x = 3\n",
        "rounded_x = round(x, 4)\n",
        "print(rounded_x)\n",
        "\n",
        "# This would print 3\n",
        "# Note that the round function does not add on decimal places that are not there already\n",
        "\n",
        "Sample Run\n",
        "\n",
        "$ python marsweight.py\n",
        "\n",
        "Enter a weight on Earth: 120\n",
        "\n",
        "The equivalent on Mars: 45.36\n",
        "\n",
        "Sample Run\n",
        "\n",
        "$ python marsweight.py\n",
        "\n",
        "Enter a weight on Earth: 186\n",
        "\n",
        "The equivalent on Mars: 70.31"
      ],
      "metadata": {
        "id": "tC3iRzKEFLqn"
      }
    },
    {
      "cell_type": "code",
      "source": [
        "MARS_GRAVITY : float = 0.378\n",
        "def get_mars_weight():\n",
        "  # Milestone 1: Get User Weight\n",
        "  user_weight : float = float(input(\"Enter a weight on Earth: \"))\n",
        "  # Milestone 2: Calculate Mars Weight\n",
        "  mars_weight : float = round((user_weight * MARS_GRAVITY),2)\n",
        "  # print(f\"Weight on Mars: {round(mars_weight, 2)}\")\n",
        "  return f\"Your weight on Mars is: {mars_weight}\""
      ],
      "metadata": {
        "id": "JH5_7T3XFI6I"
      },
      "execution_count": 18,
      "outputs": []
    },
    {
      "cell_type": "code",
      "source": [
        "my_weight = get_mars_weight()\n",
        "print(my_weight)"
      ],
      "metadata": {
        "colab": {
          "base_uri": "https://localhost:8080/"
        },
        "id": "7d4EA-8JHBSn",
        "outputId": "f2784a3e-7c36-4fba-b383-a9e802b43a8b"
      },
      "execution_count": 20,
      "outputs": [
        {
          "output_type": "stream",
          "name": "stdout",
          "text": [
            "Enter a weight on Earth: 45\n",
            "Your weight on Mars is: 17.01\n"
          ]
        }
      ]
    },
    {
      "cell_type": "code",
      "source": [
        "MARS_GRAVITY : float = 0.378\n",
        "MERCURY_GRAVITY : float = 0.376\n",
        "VENUS_GRAVITY : float = 0.889\n",
        "JUPITER_GRAVITY : float = 2.360\n",
        "SATURN_GRAVITY : float = 1.081\n",
        "URANUS_GRAVITY : float = 0.815\n",
        "NEPTUNE_GRAVITY : float = 1.140"
      ],
      "metadata": {
        "id": "QgGiPtscIrz7"
      },
      "execution_count": 3,
      "outputs": []
    },
    {
      "cell_type": "code",
      "source": [
        "def planet_weight_calculator():\n",
        "  user_weight: float = float(input(\"Enter a weight on Earth: \"))\n",
        "  planet_name = input(\"Enter a planet name: \")\n",
        "  planet_gravity = 0\n",
        "  if planet_name.lower() == \"mercury\":\n",
        "    planet_gravity = MERCURY_GRAVITY\n",
        "  elif planet_name.lower() == \"venus\":\n",
        "    planet_gravity = VENUS_GRAVITY\n",
        "  elif planet_name.lower() == \"jupiter\":\n",
        "    planet_gravity = JUPITER_GRAVITY\n",
        "  elif planet_name.lower() == \"saturn\":\n",
        "    planet_gravity = SATURN_GRAVITY\n",
        "  elif planet_name.lower() == \"uranus\":\n",
        "    planet_gravity = URANUS_GRAVITY\n",
        "  elif planet_name.lower() == \"neptune\":\n",
        "    planet_gravity = NEPTUNE_GRAVITY\n",
        "  else:\n",
        "    print(\"Invalid planet name. Please enter a valid planet name.\")\n",
        "  return f\"Your weight on {planet_name} is: {round((user_weight * planet_gravity), 2)}\""
      ],
      "metadata": {
        "id": "hDakW_iCXoXP"
      },
      "execution_count": 8,
      "outputs": []
    },
    {
      "cell_type": "code",
      "source": [
        "planet_weight_calculator()"
      ],
      "metadata": {
        "id": "g96Bl_11YdSi",
        "outputId": "a2b97a0d-96ac-4f9c-8bd4-fb3629fe3c91",
        "colab": {
          "base_uri": "https://localhost:8080/",
          "height": 70
        }
      },
      "execution_count": 9,
      "outputs": [
        {
          "name": "stdout",
          "output_type": "stream",
          "text": [
            "Enter a weight on Earth: 23\n",
            "Enter a planet name: venus\n"
          ]
        },
        {
          "output_type": "execute_result",
          "data": {
            "text/plain": [
              "'Your weight on venus is: 20.45'"
            ],
            "application/vnd.google.colaboratory.intrinsic+json": {
              "type": "string"
            }
          },
          "metadata": {},
          "execution_count": 9
        }
      ]
    },
    {
      "cell_type": "code",
      "source": [
        "def calculate_planet_on_weight(user_weight, planet_name):\n",
        "    planet_gravity = {\n",
        "    'mercury': 0.376,\n",
        "    'venus': 0.889,\n",
        "    'jupiter': 2.36,\n",
        "    'saturn': 1.081,\n",
        "    'uranus': 0.815,\n",
        "    'neptune': 1.14\n",
        "}\n",
        "    if planet_name in planet_gravity:\n",
        "      weight_on_planet = user_weight * planet_gravity[planet_name]\n",
        "      return f\"Your weight on {planet_name} is: {weight_on_planet:.2f}\"\n",
        "    else:\n",
        "      return \"Invalid planet name. Please enter a valid planet name.\"\n",
        "\n",
        "user_weight = float(input(\"Enter a weight on Earth: \"))\n",
        "planet_name = input(\"Enter a planet name: \")\n",
        "result = calculate_planet_on_weight(user_weight, planet_name)\n",
        "print(result)"
      ],
      "metadata": {
        "id": "d85v6519aXyO",
        "outputId": "492e0128-3a31-49fe-d507-603d35f07dfe",
        "colab": {
          "base_uri": "https://localhost:8080/"
        }
      },
      "execution_count": 11,
      "outputs": [
        {
          "output_type": "stream",
          "name": "stdout",
          "text": [
            "Enter a weight on Earth: 56\n",
            "Enter a planet name: Venus\n",
            "Your weight on Venus is: 49.78\n"
          ]
        }
      ]
    }
  ]
}